{
 "cells": [
  {
   "cell_type": "code",
   "execution_count": 1,
   "metadata": {},
   "outputs": [
    {
     "name": "stderr",
     "output_type": "stream",
     "text": [
      "/Users/apple/opt/anaconda3/lib/python3.9/site-packages/pandas/core/arrays/masked.py:60: UserWarning: Pandas requires version '1.3.6' or newer of 'bottleneck' (version '1.3.4' currently installed).\n",
      "  from pandas.core import (\n"
     ]
    }
   ],
   "source": [
    "from src.Env import Envr\n",
    "from src.Simulate import simulate_all_setting,visualize_rewards\n",
    "from src.Policy import online_policy\n",
    "from scipy.stats import rv_discrete"
   ]
  },
  {
   "cell_type": "code",
   "execution_count": 13,
   "metadata": {},
   "outputs": [],
   "source": [
    "args = {\n",
    "        'N_type': 'Q_exp',\n",
    "        'N_min': 5,\n",
    "        'N_max':200, # NOTE: when Q_exp, set large N_max(200)!\n",
    "                    # NOTE: when Q_power, set large N_max(70)!\n",
    "        'N_mean':5,\n",
    "        'N_std':1,\n",
    "        'astype':'trunc_max',\n",
    "        'as_scale':1,\n",
    "        'as_stepsize':5,\n",
    "        'max_scale':2,\n",
    "        'rounds':1,\n",
    "        'Q_beta':0.99,\n",
    "        'Q_alpha':0.75,\n",
    "        'f_shape':'power',\n",
    "        'f_coef':rv_discrete(values=([0.9], [1])),# x**0.9\n",
    "    }"
   ]
  },
  {
   "cell_type": "code",
   "execution_count": 14,
   "metadata": {},
   "outputs": [],
   "source": [
    "env = Envr(args)\n",
    "env_dict = env.draw_instance()\n",
    "reward_mean,mu_record,gt_record=online_policy(0.05,env_dict,'on_wang_guess1')"
   ]
  },
  {
   "cell_type": "code",
   "execution_count": 15,
   "metadata": {},
   "outputs": [
    {
     "data": {
      "text/plain": [
       "<matplotlib.legend.Legend at 0x7fed452985b0>"
      ]
     },
     "execution_count": 15,
     "metadata": {},
     "output_type": "execute_result"
    },
    {
     "data": {
      "image/png": "[encoded data removed]",
      "text/plain": [
       "<Figure size 432x288 with 1 Axes>"
      ]
     },
     "metadata": {
      "needs_background": "light"
     },
     "output_type": "display_data"
    }
   ],
   "source": [
    "import matplotlib.pyplot as plt\n",
    "plt.plot(mu_record,label='mu')\n",
    "plt.plot(gt_record,label='gt')\n",
    "plt.legend()"
   ]
  }
 ],
 "metadata": {
  "kernelspec": {
   "display_name": "base",
   "language": "python",
   "name": "python3"
  },
  "language_info": {
   "codemirror_mode": {
    "name": "ipython",
    "version": 3
   },
   "file_extension": ".py",
   "mimetype": "text/x-python",
   "name": "python",
   "nbconvert_exporter": "python",
   "pygments_lexer": "ipython3",
   "version": "3.9.12"
  }
 },
 "nbformat": 4,
 "nbformat_minor": 2
}
